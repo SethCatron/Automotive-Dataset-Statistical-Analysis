{
 "cells": [
  {
   "cell_type": "markdown",
   "id": "df4e98e1",
   "metadata": {},
   "source": [
    "# Attribute Information:\n",
    "<ol>\n",
    "    <li> mpg: continuous  </li>  \n",
    "    <li> cylinders: multi-valued discrete </li>\n",
    "    <li> displacement: continuous </li> \n",
    "    <li> horsepower: continuous </li>\n",
    "    <li> weight: continuous </li>\n",
    "    <li> acceleration: continuous </li>\n",
    "    <li> model year: multi-valued discrete </li>\n",
    "    <li> origin: multi-valued discrete </li>\n",
    "    <li> car name: string (unique for each instance) </li>\n",
    "</ol>"
   ]
  },
  {
   "cell_type": "markdown",
   "id": "8f4dc4cb",
   "metadata": {},
   "source": [
    "### import statements"
   ]
  },
  {
   "cell_type": "code",
   "execution_count": 161,
   "id": "ed694829",
   "metadata": {},
   "outputs": [],
   "source": [
    "import csv\n",
    "from statistics import *\n",
    "import matplotlib.pyplot as plt"
   ]
  },
  {
   "cell_type": "markdown",
   "id": "608db347",
   "metadata": {},
   "source": [
    "### MPG Calculations"
   ]
  },
  {
   "cell_type": "code",
   "execution_count": 162,
   "id": "124f37fa",
   "metadata": {},
   "outputs": [
    {
     "name": "stdout",
     "output_type": "stream",
     "text": [
      "MPG Min: 9.0\n",
      "MPG Max: 46.6\n",
      "MPG Mean: 23.514572864321615\n",
      "MPG STDEV: 7.8159843125657815\n"
     ]
    }
   ],
   "source": [
    "# initialize empty list\n",
    "list2 = []\n",
    "# open file in reading mode\n",
    "with open('auto-mpg.data', 'r') as f:\n",
    "    # skip empty initial whitespace\n",
    "    data_reader = csv.reader(f, skipinitialspace=True, delimiter=' ')\n",
    "    for row in data_reader:\n",
    "        list2.append(float(row[0]))\n",
    "        \n",
    "# min,max, mean, and standard deviation of MPG\n",
    "print(\"MPG Min:\", min(list2))\n",
    "     \n",
    "print(\"MPG Max:\", max(list2))\n",
    "    \n",
    "print(\"MPG Mean:\", sum(list2) / len(list2))\n",
    "\n",
    "print(\"MPG STDEV:\", stdev(list2))\n",
    "\n"
   ]
  },
  {
   "cell_type": "markdown",
   "id": "741fd490",
   "metadata": {},
   "source": [
    "### Displacement Calculations"
   ]
  },
  {
   "cell_type": "code",
   "execution_count": 163,
   "id": "12dd3e42",
   "metadata": {},
   "outputs": [
    {
     "name": "stdout",
     "output_type": "stream",
     "text": [
      "Displacement Min: 68.0\n",
      "Displacement Max: 455.0\n",
      "Displacement Mean: 193.42587939698493\n",
      "Displacement STDEV: 104.26983817119591\n"
     ]
    }
   ],
   "source": [
    "\n",
    "\n",
    "# initialize empty list\n",
    "list3 = []\n",
    "# open file in reading mode\n",
    "with open('auto-mpg.data', 'r') as f:\n",
    "    # skip empty initial whitespace\n",
    "    data_reader = csv.reader(f, skipinitialspace=True, delimiter=' ')\n",
    "    for row in data_reader:\n",
    "        list3.append(float(row[2]))\n",
    "        \n",
    "# min,max, mean, and standard deviation of Displacement\n",
    "print(\"Displacement Min:\", min(list3))\n",
    "     \n",
    "print(\"Displacement Max:\", max(list3))\n",
    "    \n",
    "print(\"Displacement Mean:\", sum(list3) / len(list3))\n",
    "\n",
    "print(\"Displacement STDEV:\", stdev(list3))"
   ]
  },
  {
   "cell_type": "markdown",
   "id": "69964c1a",
   "metadata": {},
   "source": [
    "### Horsepower Calculations"
   ]
  },
  {
   "cell_type": "code",
   "execution_count": 164,
   "id": "39b413b5",
   "metadata": {},
   "outputs": [
    {
     "name": "stdout",
     "output_type": "stream",
     "text": [
      "Horsepower Min: 46.0\n",
      "Horsepower Max: 230.0\n",
      "Horsepower Mean: 104.46938775510205\n",
      "Horsepower STDEV: 38.49115993282849\n"
     ]
    }
   ],
   "source": [
    "# initialize empty list\n",
    "list3 = []\n",
    "# open file in reading mode\n",
    "with open('auto-mpg.data', 'r') as f:\n",
    "    # skip empty initial whitespace\n",
    "    data_reader = csv.reader(f, skipinitialspace=True, delimiter=' ')\n",
    "    for row in data_reader:\n",
    "        if row[3] == '?':\n",
    "            continue\n",
    "        list3.append(float(row[3]))\n",
    "        \n",
    "# min,max, mean, and standard deviation of Horsepower\n",
    "print(\"Horsepower Min:\", min(list3))\n",
    "     \n",
    "print(\"Horsepower Max:\", max(list3))\n",
    "    \n",
    "print(\"Horsepower Mean:\", sum(list3) / len(list3))\n",
    "\n",
    "print(\"Horsepower STDEV:\", stdev(list3))"
   ]
  },
  {
   "cell_type": "markdown",
   "id": "b7806c33",
   "metadata": {},
   "source": [
    "### Weight Calculations"
   ]
  },
  {
   "cell_type": "code",
   "execution_count": 165,
   "id": "11a8196a",
   "metadata": {},
   "outputs": [
    {
     "name": "stdout",
     "output_type": "stream",
     "text": [
      "Weight Min: 1613.0\n",
      "Weight Max: 5140.0\n",
      "Weight Mean: 2970.424623115578\n",
      "Weight STDEV: 846.8417741973268\n"
     ]
    }
   ],
   "source": [
    "# initialize empty list\n",
    "list3 = []\n",
    "# open file in reading mode\n",
    "with open('auto-mpg.data', 'r') as f:\n",
    "    # skip empty initial whitespace\n",
    "    data_reader = csv.reader(f, skipinitialspace=True, delimiter=' ')\n",
    "    for row in data_reader:\n",
    "        \n",
    "        list3.append(float(row[4]))\n",
    "        \n",
    "# min,max, mean, and standard deviation of Weight\n",
    "print(\"Weight Min:\", min(list3))\n",
    "     \n",
    "print(\"Weight Max:\", max(list3))\n",
    "    \n",
    "print(\"Weight Mean:\", sum(list3) / len(list3))\n",
    "\n",
    "print(\"Weight STDEV:\", stdev(list3))"
   ]
  },
  {
   "cell_type": "markdown",
   "id": "00e4618b",
   "metadata": {},
   "source": [
    "# Histograms for the MPG, acceleration, horsepower and weight of 4, 6 and 8 cylinder cars (12 histograms)"
   ]
  },
  {
   "cell_type": "markdown",
   "id": "c86f6b78",
   "metadata": {},
   "source": [
    "### Histogram for 4 Cylinder MPG"
   ]
  },
  {
   "cell_type": "code",
   "execution_count": 166,
   "id": "de5b9c6f",
   "metadata": {},
   "outputs": [
    {
     "data": {
      "image/png": "[encoded data removed]",
      "text/plain": [
       "<Figure size 432x288 with 1 Axes>"
      ]
     },
     "metadata": {
      "needs_background": "light"
     },
     "output_type": "display_data"
    }
   ],
   "source": [
    "# initialize empty list\n",
    "list3 = []\n",
    "# open file in reading mode\n",
    "with open('auto-mpg.data', 'r') as f:\n",
    "    # skip empty initial whitespace\n",
    "    data_reader = csv.reader(f, skipinitialspace=True, delimiter=' ')\n",
    "    for row in data_reader:\n",
    "        if int(row[1]) == 4:\n",
    "            list3.append(float(row[0]))\n",
    "\n",
    "plt.hist(list3, bins='auto', histtype='bar')\n",
    "plt.ylabel('Frequency')\n",
    "plt.xlabel('MPG')\n",
    "plt.title('4 Cylinder MPG')\n",
    "\n",
    "plt.show()"
   ]
  },
  {
   "cell_type": "markdown",
   "id": "f719c4d4",
   "metadata": {},
   "source": [
    "### Histogram for 4 Cylinder Acceleration"
   ]
  },
  {
   "cell_type": "code",
   "execution_count": 167,
   "id": "d461668d",
   "metadata": {},
   "outputs": [
    {
     "data": {
      "image/png": "[encoded data removed]",
      "text/plain": [
       "<Figure size 432x288 with 1 Axes>"
      ]
     },
     "metadata": {
      "needs_background": "light"
     },
     "output_type": "display_data"
    }
   ],
   "source": [
    "# initialize empty list\n",
    "list3 = []\n",
    "# open file in reading mode\n",
    "with open('auto-mpg.data', 'r') as f:\n",
    "    # skip empty initial whitespace\n",
    "    data_reader = csv.reader(f, skipinitialspace=True, delimiter=' ')\n",
    "    for row in data_reader:\n",
    "        if int(row[1]) == 4:\n",
    "            list3.append(float(row[5]))\n",
    "\n",
    "plt.hist(list3, bins='auto', histtype='bar')\n",
    "plt.ylabel('Frequency')\n",
    "plt.xlabel('Acceleration')\n",
    "plt.title('4 Cylinder Acceleration')\n",
    "\n",
    "plt.show()"
   ]
  },
  {
   "cell_type": "markdown",
   "id": "71da6d83",
   "metadata": {},
   "source": [
    "### Histogram for 4 Cylinder Horsepower"
   ]
  },
  {
   "cell_type": "code",
   "execution_count": 168,
   "id": "6e57a759",
   "metadata": {},
   "outputs": [
    {
     "data": {
      "image/png": "[encoded data removed]",
      "text/plain": [
       "<Figure size 432x288 with 1 Axes>"
      ]
     },
     "metadata": {
      "needs_background": "light"
     },
     "output_type": "display_data"
    }
   ],
   "source": [
    "# initialize empty list\n",
    "list3 = []\n",
    "# open file in reading mode\n",
    "with open('auto-mpg.data', 'r') as f:\n",
    "    # skip empty initial whitespace\n",
    "    data_reader = csv.reader(f, skipinitialspace=True, delimiter=' ')\n",
    "    for row in data_reader:\n",
    "        if row[3] == '?':\n",
    "            continue\n",
    "        if int(row[1]) == 4:\n",
    "            list3.append(float(row[3]))\n",
    "\n",
    "plt.hist(list3, bins='auto', histtype='bar')\n",
    "plt.ylabel('Frequency')\n",
    "plt.xlabel('Horsepower')\n",
    "plt.title('4 Cylinder Horsepower')\n",
    "\n",
    "plt.show()"
   ]
  },
  {
   "cell_type": "markdown",
   "id": "bfaeb36b",
   "metadata": {},
   "source": [
    "### Histogram for 4 Cylinder Weight"
   ]
  },
  {
   "cell_type": "code",
   "execution_count": 169,
   "id": "2146fe37",
   "metadata": {},
   "outputs": [
    {
     "data": {
      "image/png": "[encoded data removed]",
      "text/plain": [
       "<Figure size 432x288 with 1 Axes>"
      ]
     },
     "metadata": {
      "needs_background": "light"
     },
     "output_type": "display_data"
    }
   ],
   "source": [
    "# initialize empty list\n",
    "list3 = []\n",
    "# open file in reading mode\n",
    "with open('auto-mpg.data', 'r') as f:\n",
    "    # skip empty initial whitespace\n",
    "    data_reader = csv.reader(f, skipinitialspace=True, delimiter=' ')\n",
    "    for row in data_reader:\n",
    "        if int(row[1]) == 4:\n",
    "            list3.append(float(row[4]))\n",
    "\n",
    "plt.hist(list3, bins='auto', histtype='bar')\n",
    "plt.ylabel('Frequency')\n",
    "plt.xlabel('Weight')\n",
    "plt.title('4 Cylinder Weight')\n",
    "\n",
    "plt.show()"
   ]
  },
  {
   "cell_type": "markdown",
   "id": "72fc971c",
   "metadata": {},
   "source": [
    "### Histogram for 6 Cylinder MPG"
   ]
  },
  {
   "cell_type": "code",
   "execution_count": 170,
   "id": "ca77737f",
   "metadata": {},
   "outputs": [
    {
     "data": {
      "image/png": "[encoded data removed]",
      "text/plain": [
       "<Figure size 432x288 with 1 Axes>"
      ]
     },
     "metadata": {
      "needs_background": "light"
     },
     "output_type": "display_data"
    }
   ],
   "source": [
    "# initialize empty list\n",
    "list3 = []\n",
    "# open file in reading mode\n",
    "with open('auto-mpg.data', 'r') as f:\n",
    "    # skip empty initial whitespace\n",
    "    data_reader = csv.reader(f, skipinitialspace=True, delimiter=' ')\n",
    "    for row in data_reader:\n",
    "        if int(row[1]) == 6:\n",
    "            list3.append(float(row[0]))\n",
    "\n",
    "plt.hist(list3, bins='auto', histtype='bar')\n",
    "plt.ylabel('Frequency')\n",
    "plt.xlabel('MPG')\n",
    "plt.title('6 Cylinder MPG')\n",
    "\n",
    "plt.show()"
   ]
  },
  {
   "cell_type": "markdown",
   "id": "11593750",
   "metadata": {},
   "source": [
    "### Histogram for 6 Cylinder Acceleration"
   ]
  },
  {
   "cell_type": "code",
   "execution_count": 171,
   "id": "2b3d6c35",
   "metadata": {},
   "outputs": [
    {
     "data": {
      "image/png": "[encoded data removed]",
      "text/plain": [
       "<Figure size 432x288 with 1 Axes>"
      ]
     },
     "metadata": {
      "needs_background": "light"
     },
     "output_type": "display_data"
    }
   ],
   "source": [
    "# initialize empty list\n",
    "list3 = []\n",
    "# open file in reading mode\n",
    "with open('auto-mpg.data', 'r') as f:\n",
    "    # skip empty initial whitespace\n",
    "    data_reader = csv.reader(f, skipinitialspace=True, delimiter=' ')\n",
    "    for row in data_reader:\n",
    "        if int(row[1]) == 6:\n",
    "            list3.append(float(row[5]))\n",
    "\n",
    "plt.hist(list3, bins='auto', histtype='bar')\n",
    "plt.ylabel('Frequency')\n",
    "plt.xlabel('Acceleration')\n",
    "plt.title('6 Cylinder Acceleration')\n",
    "\n",
    "plt.show()"
   ]
  },
  {
   "cell_type": "markdown",
   "id": "41f44f43",
   "metadata": {},
   "source": [
    "### Histogram for 6 Cylinder Horsepower"
   ]
  },
  {
   "cell_type": "code",
   "execution_count": 172,
   "id": "38a6f6c8",
   "metadata": {},
   "outputs": [
    {
     "data": {
      "image/png": "[encoded data removed]",
      "text/plain": [
       "<Figure size 432x288 with 1 Axes>"
      ]
     },
     "metadata": {
      "needs_background": "light"
     },
     "output_type": "display_data"
    }
   ],
   "source": [
    "# initialize empty list\n",
    "list3 = []\n",
    "# open file in reading mode\n",
    "with open('auto-mpg.data', 'r') as f:\n",
    "    # skip empty initial whitespace\n",
    "    data_reader = csv.reader(f, skipinitialspace=True, delimiter=' ')\n",
    "    for row in data_reader:\n",
    "        if row[3] == '?':\n",
    "            continue\n",
    "        if int(row[1]) == 6:\n",
    "            list3.append(float(row[3]))\n",
    "\n",
    "plt.hist(list3, bins='auto', histtype='bar')\n",
    "plt.ylabel('Frequency')\n",
    "plt.xlabel('Horsepower')\n",
    "plt.title('6 Cylinder Horsepower')\n",
    "\n",
    "plt.show()"
   ]
  },
  {
   "cell_type": "markdown",
   "id": "e392ac96",
   "metadata": {},
   "source": [
    "### Histogram for 6 Cylinder Weight"
   ]
  },
  {
   "cell_type": "code",
   "execution_count": 173,
   "id": "f8e53548",
   "metadata": {},
   "outputs": [
    {
     "data": {
      "image/png": "[encoded data removed]",
      "text/plain": [
       "<Figure size 432x288 with 1 Axes>"
      ]
     },
     "metadata": {
      "needs_background": "light"
     },
     "output_type": "display_data"
    }
   ],
   "source": [
    "# initialize empty list\n",
    "list3 = []\n",
    "# open file in reading mode\n",
    "with open('auto-mpg.data', 'r') as f:\n",
    "    # skip empty initial whitespace\n",
    "    data_reader = csv.reader(f, skipinitialspace=True, delimiter=' ')\n",
    "    for row in data_reader:\n",
    "        if int(row[1]) == 6:\n",
    "            list3.append(float(row[4]))\n",
    "\n",
    "plt.hist(list3, bins='auto', histtype='bar')\n",
    "plt.ylabel('Frequency')\n",
    "plt.xlabel('Weight')\n",
    "plt.title('6 Cylinder Weight')\n",
    "\n",
    "plt.show()"
   ]
  },
  {
   "cell_type": "markdown",
   "id": "76cc1f24",
   "metadata": {},
   "source": [
    "### Histogram for 8 Cylinder MPG"
   ]
  },
  {
   "cell_type": "code",
   "execution_count": 174,
   "id": "d6a7f493",
   "metadata": {},
   "outputs": [
    {
     "data": {
      "image/png": "[encoded data removed]",
      "text/plain": [
       "<Figure size 432x288 with 1 Axes>"
      ]
     },
     "metadata": {
      "needs_background": "light"
     },
     "output_type": "display_data"
    }
   ],
   "source": [
    "# initialize empty list\n",
    "list3 = []\n",
    "# open file in reading mode\n",
    "with open('auto-mpg.data', 'r') as f:\n",
    "    # skip empty initial whitespace\n",
    "    data_reader = csv.reader(f, skipinitialspace=True, delimiter=' ')\n",
    "    for row in data_reader:\n",
    "        if int(row[1]) == 8:\n",
    "            list3.append(float(row[0]))\n",
    "\n",
    "plt.hist(list3, bins='auto', histtype='bar')\n",
    "plt.ylabel('Frequency')\n",
    "plt.xlabel('MPG')\n",
    "plt.title('8 Cylinder MPG')\n",
    "\n",
    "plt.show()"
   ]
  },
  {
   "cell_type": "markdown",
   "id": "467a44f6",
   "metadata": {},
   "source": [
    "### Histogram for 8 Cylinder Acceleration"
   ]
  },
  {
   "cell_type": "code",
   "execution_count": 175,
   "id": "59a93f48",
   "metadata": {},
   "outputs": [
    {
     "data": {
      "image/png": "[encoded data removed]",
      "text/plain": [
       "<Figure size 432x288 with 1 Axes>"
      ]
     },
     "metadata": {
      "needs_background": "light"
     },
     "output_type": "display_data"
    }
   ],
   "source": [
    "# initialize empty list\n",
    "list3 = []\n",
    "# open file in reading mode\n",
    "with open('auto-mpg.data', 'r') as f:\n",
    "    # skip empty initial whitespace\n",
    "    data_reader = csv.reader(f, skipinitialspace=True, delimiter=' ')\n",
    "    for row in data_reader:\n",
    "        if int(row[1]) == 8:\n",
    "            list3.append(float(row[5]))\n",
    "\n",
    "plt.hist(list3, bins='auto', histtype='bar')\n",
    "plt.ylabel('Frequency')\n",
    "plt.xlabel('Acceleration')\n",
    "plt.title('8 Cylinder Acceleration')\n",
    "\n",
    "plt.show()"
   ]
  },
  {
   "cell_type": "markdown",
   "id": "6bc7af63",
   "metadata": {},
   "source": [
    "### Histogram for 8 Cylinder Horsepower"
   ]
  },
  {
   "cell_type": "code",
   "execution_count": 176,
   "id": "31387e11",
   "metadata": {},
   "outputs": [
    {
     "data": {
      "image/png": "[encoded data removed]",
      "text/plain": [
       "<Figure size 432x288 with 1 Axes>"
      ]
     },
     "metadata": {
      "needs_background": "light"
     },
     "output_type": "display_data"
    }
   ],
   "source": [
    "# initialize empty list\n",
    "list3 = []\n",
    "# open file in reading mode\n",
    "with open('auto-mpg.data', 'r') as f:\n",
    "    # skip empty initial whitespace\n",
    "    data_reader = csv.reader(f, skipinitialspace=True, delimiter=' ')\n",
    "    for row in data_reader:\n",
    "        if row[3] == '?':\n",
    "            continue\n",
    "        if int(row[1]) == 8:\n",
    "            list3.append(float(row[3]))\n",
    "\n",
    "plt.hist(list3, bins='auto', histtype='bar')\n",
    "plt.ylabel('Frequency')\n",
    "plt.xlabel('Horsepower')\n",
    "plt.title('8 Cylinder Horsepower')\n",
    "\n",
    "plt.show()"
   ]
  },
  {
   "cell_type": "markdown",
   "id": "16361c18",
   "metadata": {},
   "source": [
    "### Histogram for 8 Cylinder Weight"
   ]
  },
  {
   "cell_type": "code",
   "execution_count": 177,
   "id": "8a5a96fc",
   "metadata": {},
   "outputs": [
    {
     "data": {
      "image/png": "[encoded data removed]",
      "text/plain": [
       "<Figure size 432x288 with 1 Axes>"
      ]
     },
     "metadata": {
      "needs_background": "light"
     },
     "output_type": "display_data"
    }
   ],
   "source": [
    "# initialize empty list\n",
    "list3 = []\n",
    "# open file in reading mode\n",
    "with open('auto-mpg.data', 'r') as f:\n",
    "    # skip empty initial whitespace\n",
    "    data_reader = csv.reader(f, skipinitialspace=True, delimiter=' ')\n",
    "    for row in data_reader:\n",
    "        if int(row[1]) == 8:\n",
    "            list3.append(float(row[4]))\n",
    "\n",
    "plt.hist(list3, bins='auto', histtype='bar')\n",
    "plt.ylabel('Frequency')\n",
    "plt.xlabel('Weight')\n",
    "plt.title('8 Cylinder Weight')\n",
    "\n",
    "plt.show()"
   ]
  },
  {
   "cell_type": "code",
   "execution_count": null,
   "id": "f83a36a3",
   "metadata": {},
   "outputs": [],
   "source": []
  }
 ],
 "metadata": {
  "kernelspec": {
   "display_name": "Python 3 (ipykernel)",
   "language": "python",
   "name": "python3"
  },
  "language_info": {
   "codemirror_mode": {
    "name": "ipython",
    "version": 3
   },
   "file_extension": ".py",
   "mimetype": "text/x-python",
   "name": "python",
   "nbconvert_exporter": "python",
   "pygments_lexer": "ipython3",
   "version": "3.9.12"
  }
 },
 "nbformat": 4,
 "nbformat_minor": 5
}
